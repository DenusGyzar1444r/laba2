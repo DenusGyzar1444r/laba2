from datetime import datetime
name = "Denus"

print(f"{name} start programming at {datetime.now()}") 
